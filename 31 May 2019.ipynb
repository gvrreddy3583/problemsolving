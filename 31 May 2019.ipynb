{
 "cells": [
  {
   "cell_type": "markdown",
   "metadata": {
    "slideshow": {
     "slide_type": "slide"
    }
   },
   "source": [
    "### Day 05  Continuation Python \n",
    "#### Date: 31 May 2019\n",
    "#### Day Outcomes\n",
    "* Tules\n",
    "* Dictionaries\n",
    "* Linear and Binary Search\n",
    "* Date Arithmetic\n",
    "* Iterators and Generators\n",
    "* Functional Programming"
   ]
  },
  {
   "cell_type": "markdown",
   "metadata": {
    "slideshow": {
     "slide_type": "skip"
    }
   },
   "source": [
    "#### Python Tuples"
   ]
  },
  {
   "cell_type": "code",
   "execution_count": 3,
   "metadata": {},
   "outputs": [
    {
     "data": {
      "text/plain": [
       "(1001, 'name', 85, 35, 93)"
      ]
     },
     "execution_count": 3,
     "metadata": {},
     "output_type": "execute_result"
    }
   ],
   "source": [
    "# Immutable(Values cannot changed)\n",
    "#Tuples are represented using paranthesis ()\n",
    "# eg: create tuple for  student\n",
    "t1 = (1001, 'name',85,35,93) # changes shold not be made \n",
    "t1"
   ]
  },
  {
   "cell_type": "code",
   "execution_count": 6,
   "metadata": {},
   "outputs": [
    {
     "ename": "AttributeError",
     "evalue": "'tuple' object has no attribute 'append'",
     "output_type": "error",
     "traceback": [
      "\u001b[1;31m---------------------------------------------------------------------------\u001b[0m",
      "\u001b[1;31mAttributeError\u001b[0m                            Traceback (most recent call last)",
      "\u001b[1;32m<ipython-input-6-d74634c76f39>\u001b[0m in \u001b[0;36m<module>\u001b[1;34m\u001b[0m\n\u001b[1;32m----> 1\u001b[1;33m \u001b[0mt1\u001b[0m\u001b[1;33m.\u001b[0m\u001b[0mappend\u001b[0m\u001b[1;33m(\u001b[0m\u001b[1;36m30\u001b[0m\u001b[1;33m)\u001b[0m \u001b[1;31m# So it is not possible to append or change the sequence\u001b[0m\u001b[1;33m\u001b[0m\u001b[1;33m\u001b[0m\u001b[0m\n\u001b[0m\u001b[0;32m      2\u001b[0m \u001b[0mt1\u001b[0m\u001b[1;33m.\u001b[0m\u001b[0msort\u001b[0m\u001b[1;33m(\u001b[0m\u001b[1;33m)\u001b[0m\u001b[1;33m\u001b[0m\u001b[1;33m\u001b[0m\u001b[0m\n",
      "\u001b[1;31mAttributeError\u001b[0m: 'tuple' object has no attribute 'append'"
     ]
    }
   ],
   "source": [
    "t1.append(30) # So it is not possible to append or change the sequence\n",
    "t1.sort()"
   ]
  },
  {
   "cell_type": "code",
   "execution_count": 9,
   "metadata": {},
   "outputs": [
    {
     "data": {
      "text/plain": [
       "85"
      ]
     },
     "execution_count": 9,
     "metadata": {},
     "output_type": "execute_result"
    }
   ],
   "source": [
    "t1[2]"
   ]
  },
  {
   "cell_type": "code",
   "execution_count": 10,
   "metadata": {},
   "outputs": [
    {
     "data": {
      "text/plain": [
       "(85, 35, 93)"
      ]
     },
     "execution_count": 10,
     "metadata": {},
     "output_type": "execute_result"
    }
   ],
   "source": [
    "t1[2:] # it creates another Tuple as slicing operation is done"
   ]
  },
  {
   "cell_type": "code",
   "execution_count": 26,
   "metadata": {},
   "outputs": [
    {
     "name": "stdout",
     "output_type": "stream",
     "text": [
      "2 3 4\n",
      "2  3  4  8  2  2  4  "
     ]
    }
   ],
   "source": [
    "t2 = (123,234,345,987,121,323,349)\n",
    "print(str(t2[0])[1] , str(t2[1])[1] , str(t2[2])[1])\n",
    "for i in range(len(t2)):\n",
    "    print(str(t2[i])[1], end ='  ')\n",
    "    \n",
    "\n",
    "    "
   ]
  },
  {
   "cell_type": "code",
   "execution_count": 49,
   "metadata": {},
   "outputs": [
    {
     "data": {
      "text/plain": [
       "128.0"
      ]
     },
     "execution_count": 49,
     "metadata": {},
     "output_type": "execute_result"
    }
   ],
   "source": [
    "# Aversge of all elements in a tuple\n",
    "def averageLinearDS(t):\n",
    "    sum=0\n",
    "    #for i in range(len(t)):\n",
    "     #   sum += t[i]\n",
    "    # list and tuples are directly accesed elements as iterable objects\n",
    "    for item in t:\n",
    "        sum+=item\n",
    "    return sum / len(t)\n",
    "\n",
    "li= [123,124,122,143]\n",
    "\n",
    "\n",
    "\n",
    "averageLinearDS(li)"
   ]
  },
  {
   "cell_type": "code",
   "execution_count": 48,
   "metadata": {},
   "outputs": [
    {
     "data": {
      "text/plain": [
       "2"
      ]
     },
     "execution_count": 48,
     "metadata": {},
     "output_type": "execute_result"
    }
   ],
   "source": [
    "#Function to search in a Linear DS\n",
    "def linearSearch(t,key):\n",
    "    for i in range(len(t)):\n",
    "        if key == t[i]:\n",
    "            return i\n",
    "            #print(\"Element found at :\" , i)\n",
    "            \n",
    "    return -1\n",
    "\n",
    "ds = [23,25,123,43,432,122]   \n",
    "linearSearch(li,122)\n"
   ]
  },
  {
   "cell_type": "markdown",
   "metadata": {},
   "source": [
    "### Iterable objects"
   ]
  },
  {
   "cell_type": "code",
   "execution_count": 54,
   "metadata": {},
   "outputs": [
    {
     "name": "stdout",
     "output_type": "stream",
     "text": [
      "P y t h o n "
     ]
    }
   ],
   "source": [
    "s= \"Python\"\n",
    "for c in s:\n",
    "    print(c , end=\" \")"
   ]
  },
  {
   "cell_type": "code",
   "execution_count": 57,
   "metadata": {},
   "outputs": [
    {
     "data": {
      "text/plain": [
       "987"
      ]
     },
     "execution_count": 57,
     "metadata": {},
     "output_type": "execute_result"
    }
   ],
   "source": [
    "# function to identify the maximum element in a DS using Iterable objects\n",
    "def maxElementDS(ds):\n",
    "    maxi = 0\n",
    "    for item in ds:\n",
    "        if item > maxi:\n",
    "            maxi=item\n",
    "    return maxi\n",
    "maxElementDS(t2)\n"
   ]
  },
  {
   "cell_type": "markdown",
   "metadata": {},
   "source": [
    "### Python Dictionaries"
   ]
  },
  {
   "cell_type": "code",
   "execution_count": 64,
   "metadata": {},
   "outputs": [
    {
     "data": {
      "text/plain": [
       "dict_values([123432112, 4343432323])"
      ]
     },
     "execution_count": 64,
     "metadata": {},
     "output_type": "execute_result"
    }
   ],
   "source": [
    "# dictionaries defines using Curly braces {}\n",
    "d1= {\"name1\": 123432112, 'name2':4343432323}\n",
    "d1['name2']\n",
    "\n",
    "\n",
    "d1.keys()   # all keys in dictionary are Unique.\n",
    "d1.values()"
   ]
  },
  {
   "cell_type": "code",
   "execution_count": 67,
   "metadata": {},
   "outputs": [
    {
     "data": {
      "text/plain": [
       "{'name1': 123432112, 'name2': 4343432323, 'name3': 3232321232}"
      ]
     },
     "execution_count": 67,
     "metadata": {},
     "output_type": "execute_result"
    }
   ],
   "source": [
    "d1['name3'] =3232321232\n",
    "d1\n"
   ]
  },
  {
   "cell_type": "code",
   "execution_count": 72,
   "metadata": {},
   "outputs": [
    {
     "data": {
      "text/plain": [
       "{'name2': 4343432323, 'name3': 3232321232, 'name1': 7676767676}"
      ]
     },
     "execution_count": 72,
     "metadata": {},
     "output_type": "execute_result"
    }
   ],
   "source": [
    "d1['name1'] = 7676767676\n",
    "d1"
   ]
  },
  {
   "cell_type": "code",
   "execution_count": 73,
   "metadata": {},
   "outputs": [
    {
     "data": {
      "text/plain": [
       "{'name2': 4343432323, 'name1': 7676767676}"
      ]
     },
     "execution_count": 73,
     "metadata": {},
     "output_type": "execute_result"
    }
   ],
   "source": [
    "d1.pop('name3')\n",
    "d1\n"
   ]
  },
  {
   "cell_type": "code",
   "execution_count": 78,
   "metadata": {},
   "outputs": [
    {
     "name": "stdout",
     "output_type": "stream",
     "text": [
      "name:  name1 : phone number: 3242525354\n",
      "name:  name2 : phone number: 3242525354\n"
     ]
    },
    {
     "data": {
      "text/plain": [
       "{'name1': 5554443331, 'name2': 3242525354}"
      ]
     },
     "execution_count": 78,
     "metadata": {},
     "output_type": "execute_result"
    }
   ],
   "source": [
    "# Contacts Application: Display, Add, Modify and Delete contacys\n",
    "\n",
    "contacts = { }\n",
    "def addContacts(contacts, name,phone):\n",
    "    contacts[name]=phone\n",
    "    return\n",
    "def displayContacts(contacts):\n",
    "    for name, phone in contacts.items():\n",
    "        print( \"name: \" , name , \":\" , \"phone number:\", phone)\n",
    "    return\n",
    "\n",
    "# adding contacts into dictionary\n",
    "addContacts(contacts, 'name1',3242525354)\n",
    "addContacts(contacts, 'name2',3242525354)\n",
    "\n",
    "#display conct numbers from dictionary\n",
    "displayContacts(contacts)\n",
    "\n",
    "def modifyContacts(contacts,name, newnumber):\n",
    "    contacts[name]=newnumber\n",
    "    return\n",
    "\n",
    "def deleteContacts(contacts, name):\n",
    "    contacts.pop(name)\n",
    "    return\n",
    "\n",
    "\n",
    "modifyContacts(contacts,'name1',5554443331)\n",
    "contacts"
   ]
  },
  {
   "cell_type": "markdown",
   "metadata": {},
   "source": [
    "### Python Regular Expressions"
   ]
  },
  {
   "cell_type": "markdown",
   "metadata": {},
   "source": [
    "#### Everthing in pattern represent as LIsst.\n",
    "##### [0-9] Regular Expression for all single digits. i.e [0,1,2,3...9] it matches single character only.\n",
    "##### [a-z] RE (list) of all lower case alphabets.\n",
    "##### [A-Z] RE for all upper case letters.\n",
    "##### [01] represents 0 and 1 --> [0-1] also same as [10]\n",
    "##### LInk to check the regural Expression Patterns https://www.regexpal.com/\n"
   ]
  },
  {
   "cell_type": "markdown",
   "metadata": {},
   "source": [
    "# Function to validate Student Roll NUmber\n",
    "\n",
    "def vaidateStu(pat):\n",
    "   / ^[9876][0-9]{9}$ /\n",
    "\n",
    "# Function to validate indian Phone numbers starts with 9,8,7,6 and have 10 digits\n",
    "        / ^[6789][0-9]{9}$\n",
    "#function to validate email address\n",
    "    #username@domain.extension\n",
    "    username ={ string of length 9 can contain digits,_,alphabet}\n",
    "       \n",
    "    extension = { length of 3. only alphabet}\n",
    "                /^[a-zA-Z][a-z0-9A-Z_.]{5,14}[@][a-z0-9]{3,12}[.][a-z]{2,3}[.]?[a-z]?[a-z]?$/"
   ]
  },
  {
   "cell_type": "code",
   "execution_count": 5,
   "metadata": {},
   "outputs": [
    {
     "data": {
      "text/plain": [
       "True"
      ]
     },
     "execution_count": 5,
     "metadata": {},
     "output_type": "execute_result"
    }
   ],
   "source": [
    "# phone Number Validator\n",
    "import re\n",
    "def phoneNUmberValidator(phone):\n",
    "    phone=str(phone)\n",
    "    pattern='^[6-9][0-9]{9}$'\n",
    "    if(re.match(pattern,phone)):\n",
    "        return True\n",
    "    return False\n",
    "phoneNUmberValidator(6441327832)\n",
    "    "
   ]
  },
  {
   "cell_type": "code",
   "execution_count": 10,
   "metadata": {},
   "outputs": [
    {
     "data": {
      "text/plain": [
       "['In this chapter',\n",
       " 'we are going to write more functions that return values',\n",
       " 'which we will call fruitful functions',\n",
       " 'for want of a better name. The first example is area',\n",
       " 'which returns the area of a circle with the given radius:']"
      ]
     },
     "execution_count": 10,
     "metadata": {},
     "output_type": "execute_result"
    }
   ],
   "source": [
    "# Split Function in regular Expressions\n",
    "s1='In this chapter, we are going to write more functions that return values, which we will call fruitful functions, for want of a better name. The first example is area, which returns the area of a circle with the given radius:'\n",
    "syllabusList=re.split('[,][\\ ]',s1)\n",
    "syllabusList"
   ]
  },
  {
   "cell_type": "markdown",
   "metadata": {},
   "source": [
    "### Python Date time Arithmetc"
   ]
  },
  {
   "cell_type": "code",
   "execution_count": 22,
   "metadata": {},
   "outputs": [
    {
     "name": "stdout",
     "output_type": "stream",
     "text": [
      "17 11 9\n",
      "2019-05-31 17:11:09.658189\n",
      "31 5 2019\n"
     ]
    },
    {
     "data": {
      "text/plain": [
       "datetime.date(2019, 5, 31)"
      ]
     },
     "execution_count": 22,
     "metadata": {},
     "output_type": "execute_result"
    }
   ],
   "source": [
    "import datetime\n",
    "type(datetime.datetime.now())\n",
    "now= datetime.datetime.now()\n",
    "print(now.hour, now.minute, now.second)\n",
    "print(now)\n",
    "print(now.day, now.month, now.year)\n",
    "datetime.date.today()"
   ]
  },
  {
   "cell_type": "code",
   "execution_count": 28,
   "metadata": {},
   "outputs": [
    {
     "name": "stdout",
     "output_type": "stream",
     "text": [
      "5 days, 0:00:00\n"
     ]
    }
   ],
   "source": [
    "# Function to find the difference between two given dates\n",
    "#YYYY:MM:DD is the date format\n",
    "import datetime\n",
    "def dateDifference(date1, date2):\n",
    "    year1  = int(date1[:4])\n",
    "    month1 = int(date1[5:7])\n",
    "    day1   = int(date1[8:])\n",
    "\n",
    "    year2 = int(date2[:4])\n",
    "    month2 = int(date2[5:7])\n",
    "    day2 = int(date2[8:])\n",
    "\n",
    "    dateObj1 = datetime.date(year1,month1,day1)\n",
    "    dateObj2 = datetime.date(year2,month2,day2)\n",
    "    return dateObj2 -dateObj1\n",
    "\n",
    "    #print(year1,month1,day1)\n",
    "print(dateDifference('2019:05:27','2019:06:01'))\n"
   ]
  },
  {
   "cell_type": "code",
   "execution_count": 32,
   "metadata": {},
   "outputs": [
    {
     "data": {
      "text/plain": [
       "True"
      ]
     },
     "execution_count": 32,
     "metadata": {},
     "output_type": "execute_result"
    }
   ],
   "source": [
    "import calendar\n",
    "def isLeap(year):\n",
    "    if (year%4 == 0 and year%100 != 0) or year % 400 == 0:\n",
    "            return True\n",
    "    return False\n",
    "isLeap(2020)   "
   ]
  },
  {
   "cell_type": "code",
   "execution_count": 33,
   "metadata": {},
   "outputs": [],
   "source": [
    "#for Iterators and Generators follow the link  https://www.programiz.com/python-programming/generator\n",
    "    "
   ]
  },
  {
   "cell_type": "markdown",
   "metadata": {},
   "source": [
    "### List Comprehensions\n",
    "\n"
   ]
  },
  {
   "cell_type": "code",
   "execution_count": 39,
   "metadata": {},
   "outputs": [
    {
     "data": {
      "text/plain": [
       "45"
      ]
     },
     "execution_count": 39,
     "metadata": {},
     "output_type": "execute_result"
    }
   ],
   "source": [
    "li =[1,2,3,4,5,6]\n",
    "sum(li)\n",
    "# sum of n natural numbers\n",
    "sum(range(213))\n",
    "sum(list(range(9+1)))\n"
   ]
  },
  {
   "cell_type": "code",
   "execution_count": 44,
   "metadata": {},
   "outputs": [
    {
     "data": {
      "text/plain": [
       "22.4682781862041"
      ]
     },
     "execution_count": 44,
     "metadata": {},
     "output_type": "execute_result"
    }
   ],
   "source": [
    "# calculate sum of squareroot of n natural numbers\n",
    "from math import sqrt\n",
    "def sqrtNNaturalNumbers(n):\n",
    "    return sum([ sqrt(i) for i in list(range(1,n+1))])\n",
    "sqrtNNaturalNumbers(10)"
   ]
  },
  {
   "cell_type": "code",
   "execution_count": 48,
   "metadata": {},
   "outputs": [
    {
     "data": {
      "text/plain": [
       "[9, 18, 27, 36, 45]"
      ]
     },
     "execution_count": 48,
     "metadata": {},
     "output_type": "execute_result"
    }
   ],
   "source": [
    "def squareListElements(li):\n",
    "    return [i**2 for i in li]\n",
    "\n",
    "squareListElements(li)\n",
    "\n",
    "# define a function using list comprehension to identify all numbers divisible by 9 in List\n",
    "# input: li=list(range(1,50))\n",
    "#output: [9,18,27,36,45]\n",
    "\n",
    "li=list(range(1,50))\n",
    "\n",
    "def divisibleBy9(li):\n",
    "    return [i  for i in li if i % 9==0]\n",
    "\n",
    "divisibleBy9(li)\n",
    "\n"
   ]
  },
  {
   "cell_type": "code",
   "execution_count": 49,
   "metadata": {},
   "outputs": [
    {
     "data": {
      "text/plain": [
       "[1980, 1984, 1988, 1992, 1996, 2000, 2004, 2008, 2012, 2016]"
      ]
     },
     "execution_count": 49,
     "metadata": {},
     "output_type": "execute_result"
    }
   ],
   "source": [
    "li= list(range(1979,2019))\n",
    "\n",
    "def leapYear(li):\n",
    "    return [ i for i in li if (i % 4 ==0 and i % 100 != 0) or i % 400 ==0]\n",
    "leapYear(li)"
   ]
  },
  {
   "cell_type": "markdown",
   "metadata": {},
   "source": [
    "### Maps (part of Functional Programming)\n",
    " . Map is concept where functions and iterators are passed as parameters to Map data structure"
   ]
  },
  {
   "cell_type": "code",
   "execution_count": 67,
   "metadata": {},
   "outputs": [
    {
     "name": "stdout",
     "output_type": "stream",
     "text": [
      "[1, 8, 27, 64, 125, 216]\n",
      "6\n",
      "6\n"
     ]
    },
    {
     "data": {
      "text/plain": [
       "441"
      ]
     },
     "execution_count": 67,
     "metadata": {},
     "output_type": "execute_result"
    }
   ],
   "source": [
    "# Function to calculate cubes of all numbers in a list\n",
    "\n",
    "li=[1,2,3,4,5,6]\n",
    "def cube(n):\n",
    "    return n**3\n",
    "# cube function can passed as parameter to Map\n",
    "\n",
    "print(list(map(cube,li))) # cube can be accessed as variable not as funtion, so no parametes for cube\n",
    "print(len(list(map(cube,li))))\n",
    "\n",
    "print(len(list(map(cube,li))))\n",
    "\n",
    "sum([cube(i) for i in li])"
   ]
  },
  {
   "cell_type": "code",
   "execution_count": null,
   "metadata": {},
   "outputs": [],
   "source": []
  }
 ],
 "metadata": {
  "kernelspec": {
   "display_name": "Python 3",
   "language": "python",
   "name": "python3"
  },
  "language_info": {
   "codemirror_mode": {
    "name": "ipython",
    "version": 3
   },
   "file_extension": ".py",
   "mimetype": "text/x-python",
   "name": "python",
   "nbconvert_exporter": "python",
   "pygments_lexer": "ipython3",
   "version": "3.7.3"
  }
 },
 "nbformat": 4,
 "nbformat_minor": 2
}
